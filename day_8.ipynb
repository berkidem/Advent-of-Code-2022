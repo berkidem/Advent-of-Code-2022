{
 "cells": [
  {
   "cell_type": "markdown",
   "metadata": {},
   "source": [
    "# Day 8 of Advent of Code 2022: https://adventofcode.com/2022/day/8"
   ]
  },
  {
   "cell_type": "markdown",
   "metadata": {},
   "source": [
    "## Part 1:"
   ]
  },
  {
   "cell_type": "code",
   "execution_count": null,
   "metadata": {},
   "outputs": [],
   "source": [
    "# read input from \"/inputs/day8.txt\"\n",
    "\n",
    "input = open(\"inputs/day8.txt\", \"r\").read()\n",
    "\n",
    "# test input\n",
    "\"\"\"input = 30373\n",
    "25512\n",
    "65332\n",
    "33549\n",
    "35390\"\"\"\n",
    "\n",
    "# split the input into lines\n",
    "lines = input.split(\"\\n\")"
   ]
  },
  {
   "cell_type": "code",
   "execution_count": null,
   "metadata": {},
   "outputs": [],
   "source": [
    "# count the number of trees on the edges\n",
    "\n",
    "visible = len(lines[0]) + len(lines[-1]) + 2*len(lines) - 4\n",
    "\n",
    "\n",
    "# now we need to count the number of trees in the middle\n",
    "# for each line (row of trees)\n",
    "for ind_line in range(1,len(lines)-1):\n",
    "\n",
    "    line = lines[ind_line]\n",
    "\n",
    "    # for each character in the line (each tree in the row)\n",
    "    for ind_char in range(1,len(line)-1):\n",
    "\n",
    "        char = line[ind_char]\n",
    "\n",
    "        # we define the indices around the tree\n",
    "        left = list(range(0,ind_char))\n",
    "        right = list(range(ind_char+1,len(line)))\n",
    "        up = list(range(0,ind_line))\n",
    "        down = list(range(ind_line+1,len(lines)))\n",
    "\n",
    "        \n",
    "        # check if in any direction, all the trees are smaller\n",
    "        # if so, the tree is visible\n",
    "        if all(char>line[ind] for ind in left):\n",
    "            print(ind_line, ind_char)\n",
    "            visible += 1\n",
    "\n",
    "        elif all(char>line[ind] for ind in right):\n",
    "            print(ind_line, ind_char)\n",
    "            visible += 1\n",
    "      \n",
    "        elif all(char>lines[ind][ind_char] for ind in up):\n",
    "            print(ind_line, ind_char)\n",
    "            visible += 1\n",
    "\n",
    "        elif all(char>lines[ind][ind_char] for ind in down):\n",
    "            print(ind_line, ind_char)\n",
    "            visible += 1\n",
    "\n",
    "        \n",
    "\n",
    "print(f\"There are {visible} visible trees.\")"
   ]
  },
  {
   "cell_type": "markdown",
   "metadata": {},
   "source": [
    "## Part 2"
   ]
  },
  {
   "cell_type": "code",
   "execution_count": null,
   "metadata": {},
   "outputs": [],
   "source": [
    "scenic_scores = {}\n",
    "\n",
    "\n",
    "# now we need to compute the scenic score for each tree in the middle\n",
    "# (trees on the edges have a score of 0 so we can ignore them)\n",
    "\n",
    "\n",
    "# for each line (row of trees)\n",
    "for ind_line in range(1,len(lines)-1):\n",
    "\n",
    "    line = lines[ind_line]\n",
    "    # for each character in the line (each tree in the row)\n",
    "    for ind_char in range(1,len(line)-1):\n",
    "\n",
    "        char = line[ind_char]\n",
    "\n",
    "        # we define the indices around the tree\n",
    "        left = list(range(0,ind_char))\n",
    "        right = list(range(ind_char+1,len(line)))\n",
    "        up = list(range(0,ind_line))\n",
    "        down = list(range(ind_line+1,len(lines)))\n",
    "\n",
    "\n",
    "        # initialize the number of trees visible in each direction\n",
    "        left_view = 0\n",
    "        right_view = 0\n",
    "        up_view = 0\n",
    "        down_view = 0\n",
    "        \n",
    "\n",
    "        # for each tree in each direction, count the number of trees that are visible\n",
    "        for ind in left[::-1]:\n",
    "            left_view += 1\n",
    "            if char <= line[ind]:\n",
    "                break\n",
    "\n",
    "        for ind in right:\n",
    "            right_view += 1\n",
    "            if char <= line[ind]:\n",
    "                break\n",
    "\n",
    "        for ind in up[::-1]:\n",
    "            up_view += 1\n",
    "            if char <= lines[ind][ind_char]:\n",
    "                break\n",
    "    \n",
    "        for ind in down:\n",
    "            down_view += 1\n",
    "            if char <= lines[ind][ind_char]:\n",
    "                break\n",
    "\n",
    "        # compute the scenic score  and store it in a dictionary\n",
    "        scenic_score = left_view * right_view * up_view * down_view\n",
    "        scenic_scores[(ind_line, ind_char)] = scenic_score\n",
    "\n",
    "# find the tree with the highest scenic score\n",
    "max_scenic_score = max(scenic_scores.values())\n",
    "max_scenic_score_tree = [key for key in scenic_scores.keys() if scenic_scores[key] == max_scenic_score]\n",
    "\n",
    "print(f\"The tree with the highest scenic score is at {max_scenic_score_tree[0]} with a score of {max_scenic_score}.\")\n"
   ]
  }
 ],
 "metadata": {
  "kernelspec": {
   "display_name": "Python 3.10.4 ('learning')",
   "language": "python",
   "name": "python3"
  },
  "language_info": {
   "codemirror_mode": {
    "name": "ipython",
    "version": 3
   },
   "file_extension": ".py",
   "mimetype": "text/x-python",
   "name": "python",
   "nbconvert_exporter": "python",
   "pygments_lexer": "ipython3",
   "version": "3.10.4"
  },
  "orig_nbformat": 4,
  "vscode": {
   "interpreter": {
    "hash": "eff704cc9d11327bd2e92cdd28ee8a3b28d0bc3dab104a8f6621ad3741a56d2f"
   }
  }
 },
 "nbformat": 4,
 "nbformat_minor": 2
}
