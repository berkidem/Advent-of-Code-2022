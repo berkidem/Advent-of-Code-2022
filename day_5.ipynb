{
 "cells": [
  {
   "cell_type": "markdown",
   "metadata": {},
   "source": [
    "# Day 5 of Advent of Code 2022: https://adventofcode.com/2022/day/5"
   ]
  },
  {
   "cell_type": "code",
   "execution_count": null,
   "metadata": {},
   "outputs": [],
   "source": [
    "import copy"
   ]
  },
  {
   "cell_type": "markdown",
   "metadata": {},
   "source": [
    "## Part 1:"
   ]
  },
  {
   "cell_type": "code",
   "execution_count": null,
   "metadata": {},
   "outputs": [],
   "source": [
    "# read input from \"/inputs/day4.txt\"\n",
    "\n",
    "input = open(\"inputs/day5.txt\", \"r\").read()\n",
    "\n",
    "# split the input into lines\n",
    "lines = input.split(\"\\n\")"
   ]
  },
  {
   "cell_type": "code",
   "execution_count": null,
   "metadata": {},
   "outputs": [],
   "source": [
    "# checking the height of the highest stack\n",
    "\n",
    "for line in lines:\n",
    "    if \"1\" in line:\n",
    "        bottom = lines.index(line)\n",
    "        break\n",
    "print(f\"The highest stack has {bottom} rows\")"
   ]
  },
  {
   "cell_type": "code",
   "execution_count": null,
   "metadata": {},
   "outputs": [],
   "source": [
    "# checking the length of each line \n",
    "\n",
    "for line in lines[0: bottom]:\n",
    "    print(len(line))"
   ]
  },
  {
   "cell_type": "markdown",
   "metadata": {},
   "source": [
    "Each stack takes 4 characters except for the last one. So there are 9 stacks and the highest stacks have 8 levels."
   ]
  },
  {
   "cell_type": "code",
   "execution_count": null,
   "metadata": {},
   "outputs": [],
   "source": [
    "# creating a dictionary with the contecnt of the stacks\n",
    "# keys are indices of stacks\n",
    "# values are the content of the stacks, from top to bottom\n",
    "\n",
    "stacks = {}\n",
    "\n",
    "for stack in range(0, 9):\n",
    "    stacks[stack+1] = \"\"\n",
    "\n",
    "    for line in lines[0:8]:   \n",
    "\n",
    "        if line[0+stack*4] == \"[\":\n",
    "            stacks[stack+1] += line[1+stack*4]\n",
    "\n",
    "\n",
    "\n",
    "print(stacks)\n"
   ]
  },
  {
   "cell_type": "code",
   "execution_count": null,
   "metadata": {},
   "outputs": [],
   "source": [
    "# make a copy of the stacks dictionary for use in the next part\n",
    "\n",
    "org_stacks = copy.deepcopy(stacks)"
   ]
  },
  {
   "cell_type": "markdown",
   "metadata": {},
   "source": [
    "We can get rid of the stack data now."
   ]
  },
  {
   "cell_type": "code",
   "execution_count": null,
   "metadata": {},
   "outputs": [],
   "source": [
    "lines = input.split(\"\\n\")\n",
    "lines = lines[10:]"
   ]
  },
  {
   "cell_type": "code",
   "execution_count": null,
   "metadata": {},
   "outputs": [],
   "source": [
    "# creating a list of moves\n",
    "\n",
    "moves = []\n",
    "\n",
    "# for each line in the remaining input\n",
    "for line in lines:\n",
    "    move = []\n",
    "\n",
    "    # get rid of the \"move \"\n",
    "    line = line[5:]\n",
    "    # check if the number of moved crates is double digit\n",
    "    if line[1] != \" \":\n",
    "        #  if so, add the first two digits to the list\n",
    "        move.append(int(line[0:2]))\n",
    "        #  and remove them from the string together with the \" from \" that follows\n",
    "        line = line[8:]\n",
    "    else:\n",
    "        #  if not, add the first digit to the list and do the same as above\n",
    "        move.append(int(line[0]))\n",
    "        line = line[7:]\n",
    "\n",
    "    #  add the first and last character of the string to the list\n",
    "    # they are the origin and destination of the move\n",
    "    move.append(int(line[0]))\n",
    "    move.append(int(line[-1]))\n",
    "    moves.append(move)\n",
    "\n",
    " \n"
   ]
  },
  {
   "cell_type": "code",
   "execution_count": null,
   "metadata": {},
   "outputs": [],
   "source": [
    "# now we execute the moves to the stacks\n",
    "\n",
    "for move in moves:\n",
    "\n",
    "    # unpack the move\n",
    "    crate_count = move[0]\n",
    "    origin_stack = move[1]\n",
    "    destination = move[2]\n",
    "\n",
    "    # subtract the moving crates from the origin stack and keep them in temp\n",
    "    temp = stacks[origin_stack][:crate_count]\n",
    "    stacks[origin_stack]= stacks[origin_stack][crate_count:]\n",
    "\n",
    "    # add the new crates to the destination stack, backwards because they are carried one by one\n",
    "    stacks[destination] = temp[::-1] + stacks[destination]\n",
    "print(stacks)\n",
    "    \n",
    "    \n",
    "    \n"
   ]
  },
  {
   "cell_type": "code",
   "execution_count": null,
   "metadata": {},
   "outputs": [],
   "source": [
    "# create a list of the crates at the top of each stack\n",
    "\n",
    "output = \"\"\n",
    "\n",
    "for key in stacks:\n",
    "    output += stacks[key][0]\n",
    "\n",
    "print(f\"The crates at the tops of the stacks are: {output}\")"
   ]
  },
  {
   "cell_type": "markdown",
   "metadata": {},
   "source": [
    "## Part 2"
   ]
  },
  {
   "cell_type": "code",
   "execution_count": null,
   "metadata": {},
   "outputs": [],
   "source": [
    "# now we execute the same moves to the original stacks\n",
    "# but this time we keep the crates in the order they were carried\n",
    "\n",
    "for move in moves:\n",
    "    # unpack the move\n",
    "    crate_count = move[0]\n",
    "    origin_stack = move[1]\n",
    "    destination = move[2]\n",
    "\n",
    "    # subtract the moving crates from the origin stack and keep them in temp\n",
    "    temp = org_stacks[origin_stack][:crate_count]\n",
    "    org_stacks[origin_stack]= org_stacks[origin_stack][crate_count:]\n",
    "\n",
    "    # add the new crates to the destination stack, in the order they were found\n",
    "    org_stacks[destination] = temp + org_stacks[destination]\n",
    "\n",
    "print(org_stacks)\n",
    "    "
   ]
  },
  {
   "cell_type": "code",
   "execution_count": null,
   "metadata": {},
   "outputs": [],
   "source": [
    "# create a list of the crates at the top of each stack\n",
    "\n",
    "output_2 = \"\"\n",
    "\n",
    "for key in stacks:\n",
    "    output_2 += org_stacks[key][0]\n",
    "\n",
    "print(f\"The crates at the tops of the stacks are: {output_2}\")"
   ]
  }
 ],
 "metadata": {
  "kernelspec": {
   "display_name": "Python 3.10.4 ('learning')",
   "language": "python",
   "name": "python3"
  },
  "language_info": {
   "codemirror_mode": {
    "name": "ipython",
    "version": 3
   },
   "file_extension": ".py",
   "mimetype": "text/x-python",
   "name": "python",
   "nbconvert_exporter": "python",
   "pygments_lexer": "ipython3",
   "version": "3.10.4"
  },
  "orig_nbformat": 4,
  "vscode": {
   "interpreter": {
    "hash": "eff704cc9d11327bd2e92cdd28ee8a3b28d0bc3dab104a8f6621ad3741a56d2f"
   }
  }
 },
 "nbformat": 4,
 "nbformat_minor": 2
}
