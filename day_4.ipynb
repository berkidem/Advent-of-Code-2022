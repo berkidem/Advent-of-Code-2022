{
 "cells": [
  {
   "cell_type": "markdown",
   "metadata": {},
   "source": [
    "# Day 4 of Advent of Code 2022: https://adventofcode.com/2022/day/4"
   ]
  },
  {
   "cell_type": "markdown",
   "metadata": {},
   "source": [
    "## Part 1:"
   ]
  },
  {
   "cell_type": "code",
   "execution_count": null,
   "metadata": {},
   "outputs": [],
   "source": [
    "# read input from \"/inputs/day4.txt\"\n",
    "\n",
    "input = open(\"inputs/day4.txt\", \"r\").read()\n",
    "\n",
    "# split the input into lines\n",
    "pairs = input.split(\"\\n\")"
   ]
  },
  {
   "cell_type": "code",
   "execution_count": null,
   "metadata": {},
   "outputs": [],
   "source": [
    "# parse the lines into a list of lists\n",
    "\n",
    "pair_list = [] \n",
    "\n",
    "for pair in pairs:\n",
    "    # split the line into strings\n",
    "    pair_list.append(pair.split(\",\"))\n",
    "\n",
    "for pair in pair_list:\n",
    "    for i in range(len(pair)):\n",
    "        # split the strings into lists of two elements\n",
    "        # the lower and upper bounds of the area for each elf in the pair\n",
    "        pair[i] = pair[i].split(\"-\")\n",
    "        pair[i] = [int(pair[i][0]), int(pair[i][1])]"
   ]
  },
  {
   "cell_type": "code",
   "execution_count": null,
   "metadata": {},
   "outputs": [],
   "source": [
    "# count the number of pairs where one area contains the other\n",
    "\n",
    "contained = 0\n",
    "\n",
    "for pair in pair_list:\n",
    "\n",
    "   # the first area contains the second area\n",
    "    if pair[0][0] <= pair[1][0] and pair[0][1] >= pair[1][1]:\n",
    "       contained += 1\n",
    "   # the second area contains the first area\n",
    "    elif pair[0][0] >= pair[1][0] and pair[0][1] <= pair[1][1]:\n",
    "       contained += 1\n",
    "\n",
    "print(contained)"
   ]
  },
  {
   "cell_type": "markdown",
   "metadata": {},
   "source": [
    "## Part 2"
   ]
  },
  {
   "cell_type": "code",
   "execution_count": null,
   "metadata": {},
   "outputs": [],
   "source": [
    "# count the number of pairs where areas overlap\n",
    "\n",
    "overlapping = 0\n",
    "\n",
    "for pair in pair_list:\n",
    "   # the first area has a lower lower bound and there is overlap\n",
    "    if pair[0][0] <= pair[1][0] and pair[0][1] >= pair[1][0]:\n",
    "       overlapping += 1\n",
    "   # the second area has a lower lower bound and there is overlap\n",
    "    elif pair[0][0] >= pair[1][0] and pair[0][0] <= pair[1][1]:\n",
    "       overlapping += 1\n",
    "\n",
    "print(overlapping)"
   ]
  }
 ],
 "metadata": {
  "kernelspec": {
   "display_name": "Python 3.10.4 ('learning')",
   "language": "python",
   "name": "python3"
  },
  "language_info": {
   "codemirror_mode": {
    "name": "ipython",
    "version": 3
   },
   "file_extension": ".py",
   "mimetype": "text/x-python",
   "name": "python",
   "nbconvert_exporter": "python",
   "pygments_lexer": "ipython3",
   "version": "3.10.4"
  },
  "orig_nbformat": 4,
  "vscode": {
   "interpreter": {
    "hash": "eff704cc9d11327bd2e92cdd28ee8a3b28d0bc3dab104a8f6621ad3741a56d2f"
   }
  }
 },
 "nbformat": 4,
 "nbformat_minor": 2
}
