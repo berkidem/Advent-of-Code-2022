{
 "cells": [
  {
   "cell_type": "markdown",
   "metadata": {},
   "source": [
    "# Day 2 of Advent of Code 2022: https://adventofcode.com/2022/day/2"
   ]
  },
  {
   "cell_type": "markdown",
   "metadata": {},
   "source": [
    "## Part 1"
   ]
  },
  {
   "cell_type": "code",
   "execution_count": 41,
   "metadata": {},
   "outputs": [],
   "source": [
    "# read the input\n",
    "input_path = \"inputs/day2.txt\"\n",
    "with open(input_path, \"r\") as f:\n",
    "    input_data = f.read().splitlines()"
   ]
  },
  {
   "cell_type": "code",
   "execution_count": 43,
   "metadata": {},
   "outputs": [
    {
     "name": "stdout",
     "output_type": "stream",
     "text": [
      "All inputs are in the following format: A/B/C + space + X/Y/Z.\n"
     ]
    }
   ],
   "source": [
    "# just checking the input data format\n",
    "\n",
    "rounds = len(input_data)\n",
    "correct_inputs = 0\n",
    "\n",
    "for i in range(rounds):\n",
    "    if input_data[i][0] in {'A', 'B', 'C'} and input_data[i][1] == \" \" and input_data[i][2] in {'X', 'Y', 'Z'}:\n",
    "        correct_inputs += 1\n",
    "\n",
    "if correct_inputs == rounds:\n",
    "    print(\"All inputs are in the following format: A/B/C + space + X/Y/Z.\")\n",
    "else:\n",
    "    print(\"Some inputs are in a different format.\")"
   ]
  },
  {
   "cell_type": "code",
   "execution_count": 44,
   "metadata": {},
   "outputs": [],
   "source": [
    "# replace X with A, Y with B, Z with C in the input data\n",
    "input_data = [i.replace(\"X\", \"A\").replace(\"Y\", \"B\").replace(\"Z\", \"C\") for i in input_data]"
   ]
  },
  {
   "cell_type": "markdown",
   "metadata": {},
   "source": [
    "A = Rock, B = Paper and, C = Scissors for both players' actions."
   ]
  },
  {
   "cell_type": "code",
   "execution_count": 45,
   "metadata": {},
   "outputs": [
    {
     "name": "stdout",
     "output_type": "stream",
     "text": [
      "If the elf follows the actions specified by the given understanding, the total score is 13005.\n"
     ]
    }
   ],
   "source": [
    "# score the input data\n",
    "\n",
    "score = 0\n",
    "\n",
    "for i in range(rounds):\n",
    "\n",
    "    # add the score from what the player chose\n",
    "    if input_data[i][2] == 'A':\n",
    "        score += 1\n",
    "    elif input_data[i][2] == 'B':\n",
    "        score += 2\n",
    "    elif input_data[i][2] == 'C':\n",
    "        score += 3\n",
    "    \n",
    "    # add the score from the comparison to the other player\n",
    "\n",
    "    # draws\n",
    "    if input_data[i][0] == input_data[i][2]:\n",
    "        score += 3\n",
    "    # player A wins\n",
    "    elif input_data[i][0] == 'A' and input_data[i][2] == 'B':\n",
    "        score += 6\n",
    "    elif input_data[i][0] == 'B' and input_data[i][2] == 'C':\n",
    "        score += 6\n",
    "    elif input_data[i][0] == 'C' and input_data[i][2] == 'A':\n",
    "        score += 6\n",
    "    \n",
    "print(f\"If the elf follows the actions specified by the given understanding, the total score is {score}.\")"
   ]
  },
  {
   "cell_type": "markdown",
   "metadata": {},
   "source": [
    "## Part 2"
   ]
  },
  {
   "cell_type": "markdown",
   "metadata": {},
   "source": [
    "In \"input_data[i][0]\", A = Rock, B = Paper and, C = Scissors for Player 1's actions in round $i$.\n",
    "\n",
    "In \"input_data[i][2]\", A = Lose, B = Draw and, C = Win for Player 2's actions in round $i$."
   ]
  },
  {
   "cell_type": "code",
   "execution_count": 37,
   "metadata": {},
   "outputs": [
    {
     "name": "stdout",
     "output_type": "stream",
     "text": [
      "If the elf follows the actions specified by the corrected understanding, the total score is 11373.\n"
     ]
    }
   ],
   "source": [
    "# Part 2\n",
    "\n",
    "new_score = 0\n",
    "\n",
    "for i in range(rounds):\n",
    "    # add the score from what the player chose\n",
    "    # conditions for playing Rock\n",
    "    # The other player chose Rock and I want a draw or ...\n",
    "    if (input_data[i][0] == 'A' and input_data[i][2] == 'B') or (input_data[i][0] == 'B' and input_data[i][2] == 'A') or (input_data[i][0] == 'C' and input_data[i][2] == 'C'):\n",
    "        new_score += 1\n",
    "\n",
    "    # conditions for playing Paper\n",
    "    elif (input_data[i][0] == 'A' and input_data[i][2] == 'C') or (input_data[i][0] == 'B' and input_data[i][2] == 'B') or (input_data[i][0] == 'C' and input_data[i][2] == 'A'):\n",
    "        new_score += 2\n",
    "\n",
    "    # conditions for playing Scissors\n",
    "    elif (input_data[i][0] == 'A' and input_data[i][2] == 'A') or (input_data[i][0] == 'B' and input_data[i][2] == 'C') or (input_data[i][0] == 'C' and input_data[i][2] == 'B'):\n",
    "        new_score += 3\n",
    "\n",
    "\n",
    "    # add the score from the outcome of the round\n",
    "\n",
    "    #draws\n",
    "    if input_data[i][2] == 'B':\n",
    "        new_score += 3\n",
    "\n",
    "    # wins\n",
    "    elif input_data[i][2] == 'C':\n",
    "        new_score += 6\n",
    "\n",
    "print(f\"If the elf follows the actions specified by the corrected understanding, the total score is {new_score}.\")"
   ]
  }
 ],
 "metadata": {
  "kernelspec": {
   "display_name": "Python 3.10.4 ('learning')",
   "language": "python",
   "name": "python3"
  },
  "language_info": {
   "codemirror_mode": {
    "name": "ipython",
    "version": 3
   },
   "file_extension": ".py",
   "mimetype": "text/x-python",
   "name": "python",
   "nbconvert_exporter": "python",
   "pygments_lexer": "ipython3",
   "version": "3.10.4"
  },
  "orig_nbformat": 4,
  "vscode": {
   "interpreter": {
    "hash": "eff704cc9d11327bd2e92cdd28ee8a3b28d0bc3dab104a8f6621ad3741a56d2f"
   }
  }
 },
 "nbformat": 4,
 "nbformat_minor": 2
}
