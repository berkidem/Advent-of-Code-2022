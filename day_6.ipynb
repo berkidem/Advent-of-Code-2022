{
 "cells": [
  {
   "attachments": {},
   "cell_type": "markdown",
   "metadata": {},
   "source": [
    "# Day 6 of Advent of Code 2022: https://adventofcode.com/2022/day/6"
   ]
  },
  {
   "cell_type": "markdown",
   "metadata": {},
   "source": [
    "## Part 1:"
   ]
  },
  {
   "cell_type": "code",
   "execution_count": null,
   "metadata": {},
   "outputs": [],
   "source": [
    "# read input from \"/inputs/day6.txt\"\n",
    "\n",
    "input = open(\"inputs/day6.txt\", \"r\").read()\n",
    "\n",
    "# test input\n",
    "#input = \"mjqjpqmgbljsphdztnvjfqwrcgsmlb\""
   ]
  },
  {
   "cell_type": "code",
   "execution_count": null,
   "metadata": {},
   "outputs": [],
   "source": [
    "# for each character in the input\n",
    "for ind in range(len(input)):\n",
    "    # take the next 4 characters\n",
    "    temp = input[ind:ind+4]\n",
    "    # if all characters are unique\n",
    "    if all(temp.count(char) == 1 for char in temp):\n",
    "        # print the index of the first character after the 4 characters\n",
    "        output_1 = ind + 4\n",
    "        print(f\"The first start-of-packet is after the index {output_1}.\")\n",
    "        break"
   ]
  },
  {
   "cell_type": "markdown",
   "metadata": {},
   "source": [
    "## Part 2"
   ]
  },
  {
   "cell_type": "code",
   "execution_count": null,
   "metadata": {},
   "outputs": [],
   "source": [
    "# for each character in the input\n",
    "for ind in range(len(input)):\n",
    "    # take the next 14 characters\n",
    "    temp = input[ind:ind+14]\n",
    "\n",
    "    if all(temp.count(char) == 1 for char in temp):\n",
    "        # print the index of the first character after the 14 characters\n",
    "        output_2 = ind + 14\n",
    "        print(f\"The second start-of-message is after the index {output_2}.\")\n",
    "        break\n",
    "\n"
   ]
  },
  {
   "cell_type": "code",
   "execution_count": null,
   "metadata": {},
   "outputs": [],
   "source": []
  }
 ],
 "metadata": {
  "kernelspec": {
   "display_name": "Python 3.10.4 ('learning')",
   "language": "python",
   "name": "python3"
  },
  "language_info": {
   "codemirror_mode": {
    "name": "ipython",
    "version": 3
   },
   "file_extension": ".py",
   "mimetype": "text/x-python",
   "name": "python",
   "nbconvert_exporter": "python",
   "pygments_lexer": "ipython3",
   "version": "3.10.4"
  },
  "orig_nbformat": 4,
  "vscode": {
   "interpreter": {
    "hash": "eff704cc9d11327bd2e92cdd28ee8a3b28d0bc3dab104a8f6621ad3741a56d2f"
   }
  }
 },
 "nbformat": 4,
 "nbformat_minor": 2
}
