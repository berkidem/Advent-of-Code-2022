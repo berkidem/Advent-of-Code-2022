{
 "cells": [
  {
   "cell_type": "markdown",
   "metadata": {},
   "source": [
    "# Day 3 of Advent of Code 2022: https://adventofcode.com/2022/day/3"
   ]
  },
  {
   "cell_type": "markdown",
   "metadata": {},
   "source": [
    "## Part 1:"
   ]
  },
  {
   "cell_type": "code",
   "execution_count": null,
   "metadata": {},
   "outputs": [],
   "source": [
    "# read input from \"/inputs/day3.txt\"\n",
    "\n",
    "input = open(\"inputs/day3.txt\", \"r\").read()\n",
    "\n",
    "# split the input into lines\n",
    "rucksacks = input.split(\"\\n\")"
   ]
  },
  {
   "cell_type": "code",
   "execution_count": null,
   "metadata": {},
   "outputs": [],
   "source": [
    "# split the rucksacks into their compartments\n",
    "# find the intersection of the compartments in each rucksack\n",
    "# add the intersection to a string, commons\n",
    "commons = \"\"\n",
    "\n",
    "for rucksack in rucksacks:\n",
    "    items = len(rucksack)\n",
    "    compartment_1 = set(rucksack[0:items//2])\n",
    "    compartment_2 = (rucksack[items//2:])\n",
    "    common = compartment_1.intersection(compartment_2)\n",
    "\n",
    "    commons += str(common)"
   ]
  },
  {
   "cell_type": "code",
   "execution_count": null,
   "metadata": {},
   "outputs": [],
   "source": [
    "# separate the curly braces from the string\n",
    "clean_commons = ''.join(filter(str.isalnum, commons))"
   ]
  },
  {
   "cell_type": "code",
   "execution_count": null,
   "metadata": {},
   "outputs": [],
   "source": [
    "# checking the length of the string to make sure the output is correct\n",
    "len(clean_commons)"
   ]
  },
  {
   "cell_type": "code",
   "execution_count": null,
   "metadata": {},
   "outputs": [],
   "source": [
    "\n",
    "#Lowercase item types a through z have priorities 1 through 26.\n",
    "#Uppercase item types A through Z have priorities 27 through 52.\n",
    "\n",
    "total_priorities = 0\n",
    "\n",
    "for char in clean_commons:\n",
    "    if char.islower():\n",
    "        total_priorities += ord(char) - 96\n",
    "    else:\n",
    "        total_priorities += ord(char) - 38\n",
    "\n",
    "print(total_priorities)"
   ]
  },
  {
   "cell_type": "markdown",
   "metadata": {},
   "source": [
    "## Part 2"
   ]
  },
  {
   "cell_type": "code",
   "execution_count": null,
   "metadata": {},
   "outputs": [],
   "source": [
    "#create a list of sets, each set containing the items common to 3 rucksacks\n",
    "\n",
    "badges = []\n",
    "\n",
    "\n",
    "for ind in range(0, len(rucksacks), 3):\n",
    "\n",
    "    # take three rucksacks at a time\n",
    "    rucksack_1 = set(rucksacks[ind])\n",
    "    rucksack_2 = set(rucksacks[ind+1])\n",
    "    rucksack_3 = set(rucksacks[ind+2])\n",
    "\n",
    "    # find the intersection of the three rucksacks\n",
    "    common = rucksack_1.intersection(rucksack_2).intersection(rucksack_3)\n",
    "    # add the intersection to a list\n",
    "    badges.append(common)\n",
    "\n",
    "# separate the curly braces from the string\n",
    "clean_badges = ''.join(filter(str.isalnum, str(badges)))\n",
    "\n"
   ]
  },
  {
   "cell_type": "code",
   "execution_count": null,
   "metadata": {},
   "outputs": [],
   "source": [
    "# adding up the priorities of badges\n",
    "\n",
    "total_badge_priorities = 0\n",
    "\n",
    "for char in clean_badges:\n",
    "    if char.islower():\n",
    "        total_badge_priorities += ord(char) - 96\n",
    "    else:\n",
    "        total_badge_priorities += ord(char) - 38\n",
    "\n",
    "print(total_badge_priorities)"
   ]
  }
 ],
 "metadata": {
  "kernelspec": {
   "display_name": "Python 3.10.4 ('learning')",
   "language": "python",
   "name": "python3"
  },
  "language_info": {
   "codemirror_mode": {
    "name": "ipython",
    "version": 3
   },
   "file_extension": ".py",
   "mimetype": "text/x-python",
   "name": "python",
   "nbconvert_exporter": "python",
   "pygments_lexer": "ipython3",
   "version": "3.10.4"
  },
  "orig_nbformat": 4,
  "vscode": {
   "interpreter": {
    "hash": "eff704cc9d11327bd2e92cdd28ee8a3b28d0bc3dab104a8f6621ad3741a56d2f"
   }
  }
 },
 "nbformat": 4,
 "nbformat_minor": 2
}
